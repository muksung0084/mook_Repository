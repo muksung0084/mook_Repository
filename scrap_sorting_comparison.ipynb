{
 "cells": [
  {
   "cell_type": "markdown",
   "metadata": {},
   "source": [
    "## SCRAP sorting comparision"
   ]
  },
  {
   "cell_type": "code",
   "execution_count": 38,
   "metadata": {},
   "outputs": [],
   "source": [
    "import pandas as pd\n",
    "import numpy as np \n",
    "import matplotlib.pyplot as plt \n",
    "import seaborn as sns \n",
    "from datetime import datetime \n",
    "plt.rcParams['figure.figsize']=(10,8)\n",
    "import os\n",
    "pd.options.display.float_format = '{:,.2f}'.format"
   ]
  },
  {
   "cell_type": "code",
   "execution_count": 135,
   "metadata": {},
   "outputs": [
    {
     "name": "stdout",
     "output_type": "stream",
     "text": [
      "C:\\Users\\limsun\\PRACTICE\\lego\n"
     ]
    }
   ],
   "source": [
    "df=pd.read_csv('//YEJNAPWVAGWAP02/Log/BTU_LOG.csv')\n",
    "print(os.getcwd())"
   ]
  },
  {
   "cell_type": "code",
   "execution_count": 137,
   "metadata": {},
   "outputs": [
    {
     "data": {
      "text/plain": [
       "2705.0"
      ]
     },
     "execution_count": 137,
     "metadata": {},
     "output_type": "execute_result"
    }
   ],
   "source": [
    "df.loc[df['BATCHID']=='S42465','Scrap_kg'].max()"
   ]
  },
  {
   "cell_type": "code",
   "execution_count": 12,
   "metadata": {},
   "outputs": [
    {
     "data": {
      "text/html": [
       "<div>\n",
       "<style scoped>\n",
       "    .dataframe tbody tr th:only-of-type {\n",
       "        vertical-align: middle;\n",
       "    }\n",
       "\n",
       "    .dataframe tbody tr th {\n",
       "        vertical-align: top;\n",
       "    }\n",
       "\n",
       "    .dataframe thead th {\n",
       "        text-align: right;\n",
       "    }\n",
       "</style>\n",
       "<table border=\"1\" class=\"dataframe\">\n",
       "  <thead>\n",
       "    <tr style=\"text-align: right;\">\n",
       "      <th></th>\n",
       "      <th>Seq</th>\n",
       "      <th>_Timestamp</th>\n",
       "      <th>MachineName</th>\n",
       "      <th>BATCHID</th>\n",
       "      <th>CASTTYPE</th>\n",
       "      <th>Alloy</th>\n",
       "      <th>BathTemp</th>\n",
       "      <th>Molten_Weight</th>\n",
       "      <th>Prime_Weight</th>\n",
       "      <th>RSI_Weight</th>\n",
       "      <th>...</th>\n",
       "      <th>Max_MP</th>\n",
       "      <th>FceTemp</th>\n",
       "      <th>theo_q_total</th>\n",
       "      <th>theo_q_solid</th>\n",
       "      <th>Main_Door_Open</th>\n",
       "      <th>Roof_Door_Open</th>\n",
       "      <th>Start_Flue_Temp</th>\n",
       "      <th>casttype</th>\n",
       "      <th>pct_cold</th>\n",
       "      <th>air_gas_ratio_std</th>\n",
       "    </tr>\n",
       "  </thead>\n",
       "  <tbody>\n",
       "    <tr>\n",
       "      <th>131170</th>\n",
       "      <td>540</td>\n",
       "      <td>2020-07-28 15:46:00</td>\n",
       "      <td>Melter3</td>\n",
       "      <td>S43310-1</td>\n",
       "      <td>Dual</td>\n",
       "      <td>5182.0</td>\n",
       "      <td>0.0</td>\n",
       "      <td>17637.0</td>\n",
       "      <td>2248.7</td>\n",
       "      <td>8024.8</td>\n",
       "      <td>...</td>\n",
       "      <td>100</td>\n",
       "      <td>988.907227</td>\n",
       "      <td>1.457240e+07</td>\n",
       "      <td>7.682903e+06</td>\n",
       "      <td>0</td>\n",
       "      <td>720</td>\n",
       "      <td>364</td>\n",
       "      <td>1</td>\n",
       "      <td>0.597180</td>\n",
       "      <td>10.335428</td>\n",
       "    </tr>\n",
       "    <tr>\n",
       "      <th>131171</th>\n",
       "      <td>540</td>\n",
       "      <td>2020-07-28 15:46:00</td>\n",
       "      <td>Melter4</td>\n",
       "      <td>S43310</td>\n",
       "      <td>Dual</td>\n",
       "      <td>5182.0</td>\n",
       "      <td>0.0</td>\n",
       "      <td>18298.4</td>\n",
       "      <td>2248.7</td>\n",
       "      <td>20458.9</td>\n",
       "      <td>...</td>\n",
       "      <td>100</td>\n",
       "      <td>724.800659</td>\n",
       "      <td>1.459754e+07</td>\n",
       "      <td>7.449684e+06</td>\n",
       "      <td>3360</td>\n",
       "      <td>180</td>\n",
       "      <td>829</td>\n",
       "      <td>1</td>\n",
       "      <td>0.580808</td>\n",
       "      <td>7.117005</td>\n",
       "    </tr>\n",
       "    <tr>\n",
       "      <th>131172</th>\n",
       "      <td>540</td>\n",
       "      <td>2020-07-28 15:46:00</td>\n",
       "      <td>Melter4</td>\n",
       "      <td>S43310</td>\n",
       "      <td>Dual</td>\n",
       "      <td>5182.0</td>\n",
       "      <td>0.0</td>\n",
       "      <td>18298.4</td>\n",
       "      <td>2248.7</td>\n",
       "      <td>20458.9</td>\n",
       "      <td>...</td>\n",
       "      <td>100</td>\n",
       "      <td>724.800659</td>\n",
       "      <td>1.459754e+07</td>\n",
       "      <td>7.449684e+06</td>\n",
       "      <td>3360</td>\n",
       "      <td>180</td>\n",
       "      <td>829</td>\n",
       "      <td>1</td>\n",
       "      <td>0.580808</td>\n",
       "      <td>7.117005</td>\n",
       "    </tr>\n",
       "  </tbody>\n",
       "</table>\n",
       "<p>3 rows × 43 columns</p>\n",
       "</div>"
      ],
      "text/plain": [
       "        Seq           _Timestamp MachineName   BATCHID CASTTYPE   Alloy  \\\n",
       "131170  540  2020-07-28 15:46:00     Melter3  S43310-1     Dual  5182.0   \n",
       "131171  540  2020-07-28 15:46:00     Melter4    S43310     Dual  5182.0   \n",
       "131172  540  2020-07-28 15:46:00     Melter4    S43310     Dual  5182.0   \n",
       "\n",
       "        BathTemp  Molten_Weight  Prime_Weight  RSI_Weight  ...  Max_MP  \\\n",
       "131170       0.0        17637.0        2248.7      8024.8  ...     100   \n",
       "131171       0.0        18298.4        2248.7     20458.9  ...     100   \n",
       "131172       0.0        18298.4        2248.7     20458.9  ...     100   \n",
       "\n",
       "           FceTemp  theo_q_total  theo_q_solid  Main_Door_Open  \\\n",
       "131170  988.907227  1.457240e+07  7.682903e+06               0   \n",
       "131171  724.800659  1.459754e+07  7.449684e+06            3360   \n",
       "131172  724.800659  1.459754e+07  7.449684e+06            3360   \n",
       "\n",
       "        Roof_Door_Open Start_Flue_Temp casttype  pct_cold air_gas_ratio_std  \n",
       "131170             720             364        1  0.597180         10.335428  \n",
       "131171             180             829        1  0.580808          7.117005  \n",
       "131172             180             829        1  0.580808          7.117005  \n",
       "\n",
       "[3 rows x 43 columns]"
      ]
     },
     "execution_count": 12,
     "metadata": {},
     "output_type": "execute_result"
    }
   ],
   "source": [
    "df.tail(3)"
   ]
  },
  {
   "cell_type": "code",
   "execution_count": 8,
   "metadata": {
    "collapsed": true
   },
   "outputs": [
    {
     "data": {
      "text/plain": [
       "Index(['Seq', '_Timestamp', 'MachineName', 'BATCHID', 'CASTTYPE', 'Alloy',\n",
       "       'BathTemp', 'Molten_Weight', 'Prime_Weight', 'RSI_Weight',\n",
       "       'Scrap_Weight', 'Total_Weight', 'Requrited_BTU', 'Target_BTU',\n",
       "       'Min_BTU', 'Max_BTU', 'Date', 'Time', 'MainDoor_Status',\n",
       "       'RoofDoor_Status', 'MF_FUEL_TOT', 'ACTUAL_BTU', 'mf_fuel_sum',\n",
       "       'Total_Melting_Time', 'MeltingProgress', 'CycleTime', 'Molten_kg',\n",
       "       'Prime_kg', 'Scrap_kg', 'RSI_kg', 'TOTAL_WEIGHT_kg', 'Target_MP',\n",
       "       'Min_MP', 'Max_MP', 'FceTemp', 'theo_q_total', 'theo_q_solid',\n",
       "       'Main_Door_Open', 'Roof_Door_Open', 'Start_Flue_Temp', 'casttype',\n",
       "       'pct_cold', 'air_gas_ratio_std'],\n",
       "      dtype='object')"
      ]
     },
     "execution_count": 8,
     "metadata": {},
     "output_type": "execute_result"
    }
   ],
   "source": [
    "df.columns"
   ]
  },
  {
   "cell_type": "code",
   "execution_count": 109,
   "metadata": {},
   "outputs": [],
   "source": [
    "df1=df[['_Timestamp','Date','MachineName','BATCHID','Alloy','casttype','Start_Flue_Temp','ACTUAL_BTU','Requrited_BTU','MeltingProgress','TOTAL_WEIGHT_kg','Prime_kg','Molten_kg','RSI_kg','Scrap_kg']]"
   ]
  },
  {
   "cell_type": "code",
   "execution_count": 110,
   "metadata": {},
   "outputs": [
    {
     "name": "stderr",
     "output_type": "stream",
     "text": [
      "C:\\Users\\limsun\\AppData\\Local\\Continuum\\anaconda3\\lib\\site-packages\\ipykernel_launcher.py:1: SettingWithCopyWarning: \n",
      "A value is trying to be set on a copy of a slice from a DataFrame\n",
      "\n",
      "See the caveats in the documentation: http://pandas.pydata.org/pandas-docs/stable/indexing.html#indexing-view-versus-copy\n",
      "  \"\"\"Entry point for launching an IPython kernel.\n"
     ]
    }
   ],
   "source": [
    "df1.sort_values(by=['MachineName','BATCHID','_Timestamp'],inplace=True)"
   ]
  },
  {
   "cell_type": "code",
   "execution_count": 111,
   "metadata": {},
   "outputs": [],
   "source": [
    "log_scrap=df1[['_Timestamp','MachineName','BATCHID','Alloy','casttype','TOTAL_WEIGHT_kg','Prime_kg','Molten_kg','RSI_kg','Scrap_kg']]"
   ]
  },
  {
   "cell_type": "code",
   "execution_count": 112,
   "metadata": {},
   "outputs": [
    {
     "name": "stderr",
     "output_type": "stream",
     "text": [
      "C:\\Users\\limsun\\AppData\\Local\\Continuum\\anaconda3\\lib\\site-packages\\ipykernel_launcher.py:1: SettingWithCopyWarning: \n",
      "A value is trying to be set on a copy of a slice from a DataFrame.\n",
      "Try using .loc[row_indexer,col_indexer] = value instead\n",
      "\n",
      "See the caveats in the documentation: http://pandas.pydata.org/pandas-docs/stable/indexing.html#indexing-view-versus-copy\n",
      "  \"\"\"Entry point for launching an IPython kernel.\n"
     ]
    }
   ],
   "source": [
    "log_scrap['cold_total']=log_scrap['Prime_kg']+log_scrap['Molten_kg']+log_scrap['RSI_kg']+log_scrap['Scrap_kg']"
   ]
  },
  {
   "cell_type": "code",
   "execution_count": 113,
   "metadata": {
    "collapsed": true
   },
   "outputs": [
    {
     "name": "stdout",
     "output_type": "stream",
     "text": [
      "<class 'pandas.core.frame.DataFrame'>\n",
      "Int64Index: 131266 entries, 21071 to 131184\n",
      "Data columns (total 11 columns):\n",
      "_Timestamp         131266 non-null object\n",
      "MachineName        131266 non-null object\n",
      "BATCHID            118024 non-null object\n",
      "Alloy              117988 non-null float64\n",
      "casttype           131266 non-null int64\n",
      "TOTAL_WEIGHT_kg    129019 non-null float64\n",
      "Prime_kg           129019 non-null float64\n",
      "Molten_kg          129019 non-null float64\n",
      "RSI_kg             129019 non-null float64\n",
      "Scrap_kg           129019 non-null float64\n",
      "cold_total         129019 non-null float64\n",
      "dtypes: float64(7), int64(1), object(3)\n",
      "memory usage: 12.0+ MB\n"
     ]
    }
   ],
   "source": [
    "log_scrap.info()"
   ]
  },
  {
   "cell_type": "code",
   "execution_count": 114,
   "metadata": {},
   "outputs": [
    {
     "name": "stderr",
     "output_type": "stream",
     "text": [
      "C:\\Users\\limsun\\AppData\\Local\\Continuum\\anaconda3\\lib\\site-packages\\ipykernel_launcher.py:1: SettingWithCopyWarning: \n",
      "A value is trying to be set on a copy of a slice from a DataFrame.\n",
      "Try using .loc[row_indexer,col_indexer] = value instead\n",
      "\n",
      "See the caveats in the documentation: http://pandas.pydata.org/pandas-docs/stable/indexing.html#indexing-view-versus-copy\n",
      "  \"\"\"Entry point for launching an IPython kernel.\n"
     ]
    }
   ],
   "source": [
    "log_scrap['_Timestamp']=pd.to_datetime(log_scrap['_Timestamp'])\n",
    "log_scrap_jul=log_scrap.loc[log_scrap['_Timestamp'].dt.month.isin([7])]\n",
    "log_scrap_jul=log_scrap_jul.loc[log_scrap_jul['_Timestamp'].dt.day.isin([13,14,15,16,17,18,19,20,21,22,23,24,25,26])]"
   ]
  },
  {
   "cell_type": "code",
   "execution_count": 65,
   "metadata": {},
   "outputs": [
    {
     "data": {
      "text/html": [
       "<div>\n",
       "<style scoped>\n",
       "    .dataframe tbody tr th:only-of-type {\n",
       "        vertical-align: middle;\n",
       "    }\n",
       "\n",
       "    .dataframe tbody tr th {\n",
       "        vertical-align: top;\n",
       "    }\n",
       "\n",
       "    .dataframe thead th {\n",
       "        text-align: right;\n",
       "    }\n",
       "</style>\n",
       "<table border=\"1\" class=\"dataframe\">\n",
       "  <thead>\n",
       "    <tr style=\"text-align: right;\">\n",
       "      <th></th>\n",
       "      <th>_Timestamp</th>\n",
       "      <th>MachineName</th>\n",
       "      <th>Alloy</th>\n",
       "      <th>casttype</th>\n",
       "      <th>TOTAL_WEIGHT_kg</th>\n",
       "      <th>Prime_kg</th>\n",
       "      <th>Molten_kg</th>\n",
       "      <th>RSI_kg</th>\n",
       "      <th>Scrap_kg</th>\n",
       "      <th>cold_total</th>\n",
       "      <th>TOTAL-MOLTNE</th>\n",
       "    </tr>\n",
       "    <tr>\n",
       "      <th>BATCHID</th>\n",
       "      <th></th>\n",
       "      <th></th>\n",
       "      <th></th>\n",
       "      <th></th>\n",
       "      <th></th>\n",
       "      <th></th>\n",
       "      <th></th>\n",
       "      <th></th>\n",
       "      <th></th>\n",
       "      <th></th>\n",
       "      <th></th>\n",
       "    </tr>\n",
       "  </thead>\n",
       "  <tbody>\n",
       "    <tr>\n",
       "      <th>S42464</th>\n",
       "      <td>2020-07-13 00:01:00</td>\n",
       "      <td>Melter4</td>\n",
       "      <td>5,182.00</td>\n",
       "      <td>1</td>\n",
       "      <td>13,020.00</td>\n",
       "      <td>1,020.00</td>\n",
       "      <td>0.00</td>\n",
       "      <td>6,000.00</td>\n",
       "      <td>6,000.00</td>\n",
       "      <td>13,020.00</td>\n",
       "      <td>13,020.00</td>\n",
       "    </tr>\n",
       "    <tr>\n",
       "      <th>S42464-1</th>\n",
       "      <td>2020-07-13 00:01:00</td>\n",
       "      <td>Melter3</td>\n",
       "      <td>5,182.00</td>\n",
       "      <td>1</td>\n",
       "      <td>14,735.00</td>\n",
       "      <td>1,020.00</td>\n",
       "      <td>0.00</td>\n",
       "      <td>7,280.00</td>\n",
       "      <td>6,435.00</td>\n",
       "      <td>14,735.00</td>\n",
       "      <td>14,735.00</td>\n",
       "    </tr>\n",
       "    <tr>\n",
       "      <th>S42465</th>\n",
       "      <td>2020-07-13 02:22:00</td>\n",
       "      <td>Melter4</td>\n",
       "      <td>5,182.00</td>\n",
       "      <td>1</td>\n",
       "      <td>13,725.00</td>\n",
       "      <td>1,020.00</td>\n",
       "      <td>0.00</td>\n",
       "      <td>10,000.00</td>\n",
       "      <td>2,705.00</td>\n",
       "      <td>13,725.00</td>\n",
       "      <td>13,725.00</td>\n",
       "    </tr>\n",
       "  </tbody>\n",
       "</table>\n",
       "</div>"
      ],
      "text/plain": [
       "                  _Timestamp MachineName    Alloy  casttype  TOTAL_WEIGHT_kg  \\\n",
       "BATCHID                                                                        \n",
       "S42464   2020-07-13 00:01:00     Melter4 5,182.00         1        13,020.00   \n",
       "S42464-1 2020-07-13 00:01:00     Melter3 5,182.00         1        14,735.00   \n",
       "S42465   2020-07-13 02:22:00     Melter4 5,182.00         1        13,725.00   \n",
       "\n",
       "          Prime_kg  Molten_kg    RSI_kg  Scrap_kg  cold_total  TOTAL-MOLTNE  \n",
       "BATCHID                                                                      \n",
       "S42464    1,020.00       0.00  6,000.00  6,000.00   13,020.00     13,020.00  \n",
       "S42464-1  1,020.00       0.00  7,280.00  6,435.00   14,735.00     14,735.00  \n",
       "S42465    1,020.00       0.00 10,000.00  2,705.00   13,725.00     13,725.00  "
      ]
     },
     "execution_count": 65,
     "metadata": {},
     "output_type": "execute_result"
    }
   ],
   "source": [
    "log_scrap_jul.groupby('BATCHID').first().head(3)"
   ]
  },
  {
   "cell_type": "code",
   "execution_count": 101,
   "metadata": {},
   "outputs": [
    {
     "data": {
      "text/html": [
       "<div>\n",
       "<style scoped>\n",
       "    .dataframe tbody tr th:only-of-type {\n",
       "        vertical-align: middle;\n",
       "    }\n",
       "\n",
       "    .dataframe tbody tr th {\n",
       "        vertical-align: top;\n",
       "    }\n",
       "\n",
       "    .dataframe thead th {\n",
       "        text-align: right;\n",
       "    }\n",
       "</style>\n",
       "<table border=\"1\" class=\"dataframe\">\n",
       "  <thead>\n",
       "    <tr style=\"text-align: right;\">\n",
       "      <th></th>\n",
       "      <th>_Timestamp</th>\n",
       "      <th>MachineName</th>\n",
       "      <th>Alloy</th>\n",
       "      <th>casttype</th>\n",
       "      <th>TOTAL_WEIGHT_kg</th>\n",
       "      <th>Prime_kg</th>\n",
       "      <th>Molten_kg</th>\n",
       "      <th>RSI_kg</th>\n",
       "      <th>Scrap_kg</th>\n",
       "      <th>cold_total</th>\n",
       "      <th>TOTAL-MOLTNE</th>\n",
       "    </tr>\n",
       "    <tr>\n",
       "      <th>BATCHID</th>\n",
       "      <th></th>\n",
       "      <th></th>\n",
       "      <th></th>\n",
       "      <th></th>\n",
       "      <th></th>\n",
       "      <th></th>\n",
       "      <th></th>\n",
       "      <th></th>\n",
       "      <th></th>\n",
       "      <th></th>\n",
       "      <th></th>\n",
       "    </tr>\n",
       "  </thead>\n",
       "  <tbody>\n",
       "    <tr>\n",
       "      <th>S42464</th>\n",
       "      <td>2020-07-13 02:10:00</td>\n",
       "      <td>Melter4</td>\n",
       "      <td>5,182.00</td>\n",
       "      <td>1</td>\n",
       "      <td>19,420.00</td>\n",
       "      <td>1,020.00</td>\n",
       "      <td>6,400.00</td>\n",
       "      <td>6,000.00</td>\n",
       "      <td>6,000.00</td>\n",
       "      <td>19,420.00</td>\n",
       "      <td>13,020.00</td>\n",
       "    </tr>\n",
       "    <tr>\n",
       "      <th>S42464-1</th>\n",
       "      <td>2020-07-13 01:22:00</td>\n",
       "      <td>Melter3</td>\n",
       "      <td>5,182.00</td>\n",
       "      <td>1</td>\n",
       "      <td>20,735.00</td>\n",
       "      <td>1,020.00</td>\n",
       "      <td>6,000.00</td>\n",
       "      <td>7,280.00</td>\n",
       "      <td>6,435.00</td>\n",
       "      <td>20,735.00</td>\n",
       "      <td>14,735.00</td>\n",
       "    </tr>\n",
       "    <tr>\n",
       "      <th>S42465</th>\n",
       "      <td>2020-07-13 04:31:00</td>\n",
       "      <td>Melter4</td>\n",
       "      <td>5,182.00</td>\n",
       "      <td>1</td>\n",
       "      <td>20,025.00</td>\n",
       "      <td>1,020.00</td>\n",
       "      <td>6,300.00</td>\n",
       "      <td>10,000.00</td>\n",
       "      <td>2,705.00</td>\n",
       "      <td>20,025.00</td>\n",
       "      <td>13,725.00</td>\n",
       "    </tr>\n",
       "  </tbody>\n",
       "</table>\n",
       "</div>"
      ],
      "text/plain": [
       "                  _Timestamp MachineName    Alloy  casttype  TOTAL_WEIGHT_kg  \\\n",
       "BATCHID                                                                        \n",
       "S42464   2020-07-13 02:10:00     Melter4 5,182.00         1        19,420.00   \n",
       "S42464-1 2020-07-13 01:22:00     Melter3 5,182.00         1        20,735.00   \n",
       "S42465   2020-07-13 04:31:00     Melter4 5,182.00         1        20,025.00   \n",
       "\n",
       "          Prime_kg  Molten_kg    RSI_kg  Scrap_kg  cold_total  TOTAL-MOLTNE  \n",
       "BATCHID                                                                      \n",
       "S42464    1,020.00   6,400.00  6,000.00  6,000.00   19,420.00     13,020.00  \n",
       "S42464-1  1,020.00   6,000.00  7,280.00  6,435.00   20,735.00     14,735.00  \n",
       "S42465    1,020.00   6,300.00 10,000.00  2,705.00   20,025.00     13,725.00  "
      ]
     },
     "execution_count": 101,
     "metadata": {},
     "output_type": "execute_result"
    }
   ],
   "source": [
    "log_scrap_jul.groupby('BATCHID').last().head(3)"
   ]
  },
  {
   "cell_type": "code",
   "execution_count": 129,
   "metadata": {},
   "outputs": [],
   "source": [
    "log_scrap_jul_f=log_scrap_jul.groupby('BATCHID').first().reset_index()"
   ]
  },
  {
   "cell_type": "code",
   "execution_count": 74,
   "metadata": {},
   "outputs": [],
   "source": [
    "mes_scrap=pd.read_excel('C:\\\\Users\\\\limsun\\\\OneDrive - Novelis Inc\\\\Desktop\\\\자료\\\\BTU 자료 _ FROM 김차장님\\\\Scrap_투입현황(7.13~26).xlsx')"
   ]
  },
  {
   "cell_type": "code",
   "execution_count": 148,
   "metadata": {},
   "outputs": [
    {
     "data": {
      "text/plain": [
       "10255.0"
      ]
     },
     "execution_count": 148,
     "metadata": {},
     "output_type": "execute_result"
    }
   ],
   "source": [
    "pivot_scrap=pd.pivot_table(mes_scrap,index='BATCHNO',columns='MTRLTYPE',values='CHRGWGT')\n",
    "pivot_scrap=pivot_scrap.fillna(0)\n",
    "pivot_scrap.reset_index(inplace=True)\n",
    "#pivot_scrap.set_index('BATCHNO',inplace=True)\n",
    "pivot_scrap['sum_scrap']=np.sum(pivot_scrap,axis=1)\n",
    "pivot_scrap['sum_scrap'].median()"
   ]
  },
  {
   "cell_type": "code",
   "execution_count": 143,
   "metadata": {},
   "outputs": [],
   "source": [
    "merged=log_scrap_jul_f.merge(pivot_scrap,left_on='BATCHID',right_on='BATCHNO',how='inner',sort=False).drop('BATCHNO',axis=1)"
   ]
  },
  {
   "cell_type": "code",
   "execution_count": 145,
   "metadata": {},
   "outputs": [],
   "source": [
    "merged.to_excel('merged_log_mes.xlsx')"
   ]
  },
  {
   "cell_type": "code",
   "execution_count": 134,
   "metadata": {},
   "outputs": [],
   "source": [
    "merged.to_excel('comparision_MES_SCRAP_data with Log.xlsx')"
   ]
  },
  {
   "cell_type": "code",
   "execution_count": null,
   "metadata": {},
   "outputs": [],
   "source": []
  }
 ],
 "metadata": {
  "kernelspec": {
   "display_name": "Python 3",
   "language": "python",
   "name": "python3"
  },
  "language_info": {
   "codemirror_mode": {
    "name": "ipython",
    "version": 3
   },
   "file_extension": ".py",
   "mimetype": "text/x-python",
   "name": "python",
   "nbconvert_exporter": "python",
   "pygments_lexer": "ipython3",
   "version": "3.7.3"
  }
 },
 "nbformat": 4,
 "nbformat_minor": 2
}
