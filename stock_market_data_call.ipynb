{
  "nbformat": 4,
  "nbformat_minor": 0,
  "metadata": {
    "colab": {
      "name": "Untitled0.ipynb",
      "provenance": [],
      "authorship_tag": "ABX9TyMdIr2Y9aMuY6DY2POpnH4W",
      "include_colab_link": true
    },
    "kernelspec": {
      "name": "python3",
      "display_name": "Python 3"
    }
  },
  "cells": [
    {
      "cell_type": "markdown",
      "metadata": {
        "id": "view-in-github",
        "colab_type": "text"
      },
      "source": [
        "<a href=\"https://colab.research.google.com/github/muksung0084/mook_Repository/blob/master/stock_market_data_call.ipynb\" target=\"_parent\"><img src=\"https://colab.research.google.com/assets/colab-badge.svg\" alt=\"Open In Colab\"/></a>"
      ]
    },
    {
      "cell_type": "code",
      "metadata": {
        "id": "CECBSWjIVKFV"
      },
      "source": [
        "##### 주식 data load 하기 \r\n",
        "##### query method로 필터하기 "
      ],
      "execution_count": null,
      "outputs": []
    },
    {
      "cell_type": "code",
      "metadata": {
        "id": "6i69NAuUR-ng"
      },
      "source": [
        "pip install pandas-datareader"
      ],
      "execution_count": null,
      "outputs": []
    },
    {
      "cell_type": "code",
      "metadata": {
        "id": "-j5UJVVRU16N"
      },
      "source": [
        "# data 가져오기1  원하는 일자 선택 이씀\r\n",
        "from pandas_datareader import data \r\n",
        "all_data = {}\r\n",
        "\r\n",
        "for ticker in ['AAPL','GOOG','IBM','MSFT']:\r\n",
        "    all_data[ticker] = data.DataReader(ticker,'yahoo','2014-01-01','2015-01-01')"
      ],
      "execution_count": null,
      "outputs": []
    },
    {
      "cell_type": "code",
      "metadata": {
        "id": "jbHT1x5gU4qF"
      },
      "source": [
        "def get_code(df, name):\r\n",
        "    code = df.query(\"name=='{}'\".format(name))['code'].to_string(index=False) # 위와같이 code명을 가져오면 앞에 공백이 붙어있는 상황이 발생하여 앞뒤로 sript() 하여 공백 제거\r\n",
        "    code = code.strip()\r\n",
        "    return code\r\n",
        "\r\n",
        "code_df = pd.read_html('http://kind.krx.co.kr/corpgeneral/corpList.do?method=download', header=0)[0]\r\n",
        "\r\n",
        "code_df = code_df[['회사명', '종목코드']] # data frame정리\r\n",
        "code_df = code_df.rename(columns={'회사명': 'name', '종목코드': 'code'})  # data frame title 변경 '회사명' = name, 종목코드 = 'code'\r\n",
        "\r\n",
        "code_df.code = code_df.code.map('{:06d}'.format)  # 종목코드는 6자리로 구분되기때문에 0을 채워 6자리로 변경\r\n",
        "\r\n",
        "code = get_code(code_df, '삼성전자') # ex) 삼성전자의의 코드를 구해보겠습니다.\r\n",
        "code = code + '.KS'  # yahoo의 주식 데이터 종목은 코스피는 .KS, 코스닥은 .KQ다.# 삼성전자의 경우 코스피에 상장되어있기때문에 '종목코드.KS'로 처리.\r\n"
      ],
      "execution_count": null,
      "outputs": []
    },
    {
      "cell_type": "code",
      "metadata": {
        "id": "e_QClUNKVZG-"
      },
      "source": [
        "# data 가져오기 2 --> 원하는 일자선택 없음 \r\n",
        "df = data.get_data_yahoo(code)# get_data_yahoo API를 통해서 yahho finance의 주식 종목 데이터를 가져온다."
      ],
      "execution_count": null,
      "outputs": []
    },
    {
      "cell_type": "code",
      "metadata": {
        "id": "AqbWVtbNU8vE"
      },
      "source": [
        "# data 가져오기1  원하는 일자 선택 이씀\r\n",
        "all_data[code] = data.DataReader(code,'yahoo','2014-01-01','2015-01-01')"
      ],
      "execution_count": null,
      "outputs": []
    },
    {
      "cell_type": "code",
      "metadata": {
        "id": "0cZ9LwoUU-xn"
      },
      "source": [
        "all_data[code]"
      ],
      "execution_count": null,
      "outputs": []
    }
  ]
}