{
 "cells": [
  {
   "cell_type": "code",
   "execution_count": 1,
   "metadata": {},
   "outputs": [],
   "source": [
    "import pandas as pd\n",
    "import numpy as np \n",
    "import matplotlib.pyplot as plt \n",
    "import seaborn as sns \n",
    "from datetime import datetime \n",
    "plt.rcParams['figure.figsize']=(5,3)\n",
    "import os\n",
    "pd.options.display.float_format = '{:,.2f}'.format"
   ]
  },
  {
   "cell_type": "code",
   "execution_count": 7,
   "metadata": {},
   "outputs": [
    {
     "name": "stdout",
     "output_type": "stream",
     "text": [
      "C:\\Users\\limsun\\OneDrive - Novelis Inc\\Desktop\\Git\n",
      "C:\\Users\\limsun\\OneDrive - Novelis Inc\\Desktop\\Git\\업무용 code_pandas\n"
     ]
    }
   ],
   "source": [
    "print(os.getcwd())\n",
    "path = 'C:/Users/limsun/OneDrive - Novelis Inc/Desktop/Git/업무용 code_pandas'\n",
    "os.chdir(path)\n",
    "print(os.getcwd())"
   ]
  },
  {
   "cell_type": "markdown",
   "metadata": {},
   "source": [
    "## SCRAP 분류 "
   ]
  },
  {
   "cell_type": "code",
   "execution_count": 14,
   "metadata": {},
   "outputs": [
    {
     "name": "stdout",
     "output_type": "stream",
     "text": [
      "WARNING *** file size (585893) not 512 + multiple of sector size (512)\n"
     ]
    }
   ],
   "source": [
    "pd.read_excel('drop_detail_0729.xls').to_pickle('drop_detail_0729.pickle')\n",
    "pd.read_excel('RF1_detail_0729.xls').to_pickle('rf1_detail_0729.pickle')\n",
    "pd.read_excel('RF2_detail_0729.xls').to_pickle('rf2_detail_0729.pickle')\n",
    "drop=pd.read_pickle('drop_detail_0729.pickle')\n",
    "rf1=pd.read_pickle('rf1_detail_0729.pickle')\n",
    "rf2=pd.read_pickle('rf2_detail_0729.pickle')"
   ]
  },
  {
   "cell_type": "code",
   "execution_count": 115,
   "metadata": {},
   "outputs": [
    {
     "data": {
      "text/plain": [
       "75"
      ]
     },
     "execution_count": 115,
     "metadata": {},
     "output_type": "execute_result"
    }
   ],
   "source": [
    "len(drop.columns)"
   ]
  },
  {
   "cell_type": "code",
   "execution_count": 116,
   "metadata": {},
   "outputs": [
    {
     "data": {
      "text/plain": [
       "pandas.core.indexes.base.Index"
      ]
     },
     "execution_count": 116,
     "metadata": {},
     "output_type": "execute_result"
    }
   ],
   "source": [
    "columns=drop.columns\n",
    "type(columns)"
   ]
  },
  {
   "cell_type": "code",
   "execution_count": 271,
   "metadata": {},
   "outputs": [],
   "source": [
    "drop.columns=columns.str[-7:-1]"
   ]
  },
  {
   "cell_type": "code",
   "execution_count": 276,
   "metadata": {},
   "outputs": [],
   "source": [
    "drop=drop.drop(530,axis=0)"
   ]
  },
  {
   "cell_type": "code",
   "execution_count": 277,
   "metadata": {},
   "outputs": [],
   "source": [
    "drop_sum=drop.sum(axis=0)"
   ]
  },
  {
   "cell_type": "code",
   "execution_count": 292,
   "metadata": {},
   "outputs": [],
   "source": [
    "df_drop_sum=pd.DataFrame(drop_sum).reset_index()\n",
    "df_drop_sum=df_drop_sum.rename(columns={'index':'detail',0:'volumn'})\n",
    "DF_drop_sum=pd.DataFrame(df_drop_sum.groupby('detail')['volumn'].sum()).reset_index()\n",
    "DF_drop_sum['seg']=0\n",
    "DF_drop_sum=DF_drop_sum[6:-2].reset_index(drop=True)"
   ]
  },
  {
   "cell_type": "markdown",
   "metadata": {},
   "source": [
    "### startswith 'MR' 자체만으로도 booliean 으로 인식됨. 따라서 == 필요 없음"
   ]
  },
  {
   "cell_type": "code",
   "execution_count": 279,
   "metadata": {},
   "outputs": [
    {
     "data": {
      "text/plain": [
       "Series([], Name: seg, dtype: int64)"
      ]
     },
     "execution_count": 279,
     "metadata": {},
     "output_type": "execute_result"
    }
   ],
   "source": [
    "DF_drop_sum.loc[DF_drop_sum['detail'] == DF_drop_sum['detail'].str.startswith('MR'),'seg']"
   ]
  },
  {
   "cell_type": "code",
   "execution_count": 310,
   "metadata": {},
   "outputs": [],
   "source": [
    "DF_drop_sum.loc[DF_drop_sum['detail'].str.startswith('MT'),'seg']='SCRAP'\n",
    "DF_drop_sum.loc[DF_drop_sum['detail'].str.startswith('MP'),'seg']='PRIME'\n",
    "DF_drop_sum.loc[DF_drop_sum['detail'].str.startswith('MH'),'seg']='HARDNER'\n",
    "DF_drop_sum.loc[DF_drop_sum['detail'].str.startswith('MR'),'seg']='RSI'\n",
    "DF_drop_sum.loc[DF_drop_sum['detail'].isin(['MR0018']),'seg']='RF1_MOLTEN,RSI'\n",
    "DF_drop_sum.loc[DF_drop_sum['detail'].isin(['MR0027']),'seg']='RF2_MOLTEN,RSI'\n",
    "DF_drop_sum.loc[DF_drop_sum['detail'].str.startswith('MT0001'),'seg']='RAS'"
   ]
  },
  {
   "cell_type": "code",
   "execution_count": 311,
   "metadata": {},
   "outputs": [
    {
     "data": {
      "text/html": [
       "<div>\n",
       "<style scoped>\n",
       "    .dataframe tbody tr th:only-of-type {\n",
       "        vertical-align: middle;\n",
       "    }\n",
       "\n",
       "    .dataframe tbody tr th {\n",
       "        vertical-align: top;\n",
       "    }\n",
       "\n",
       "    .dataframe thead th {\n",
       "        text-align: right;\n",
       "    }\n",
       "</style>\n",
       "<table border=\"1\" class=\"dataframe\">\n",
       "  <thead>\n",
       "    <tr style=\"text-align: right;\">\n",
       "      <th></th>\n",
       "      <th>seg</th>\n",
       "      <th>volumn</th>\n",
       "    </tr>\n",
       "  </thead>\n",
       "  <tbody>\n",
       "    <tr>\n",
       "      <th>0</th>\n",
       "      <td>HARDNER</td>\n",
       "      <td>281,907.00</td>\n",
       "    </tr>\n",
       "    <tr>\n",
       "      <th>1</th>\n",
       "      <td>PRIME</td>\n",
       "      <td>4,809,945.00</td>\n",
       "    </tr>\n",
       "    <tr>\n",
       "      <th>2</th>\n",
       "      <td>RAS</td>\n",
       "      <td>7,409,469.00</td>\n",
       "    </tr>\n",
       "    <tr>\n",
       "      <th>3</th>\n",
       "      <td>RF1_MOLTEN,RSI</td>\n",
       "      <td>5,240,780.00</td>\n",
       "    </tr>\n",
       "    <tr>\n",
       "      <th>4</th>\n",
       "      <td>RF2_MOLTEN,RSI</td>\n",
       "      <td>2,643,845.00</td>\n",
       "    </tr>\n",
       "    <tr>\n",
       "      <th>5</th>\n",
       "      <td>RSI</td>\n",
       "      <td>5,502,347.00</td>\n",
       "    </tr>\n",
       "    <tr>\n",
       "      <th>6</th>\n",
       "      <td>SCRAP</td>\n",
       "      <td>117,245.00</td>\n",
       "    </tr>\n",
       "  </tbody>\n",
       "</table>\n",
       "</div>"
      ],
      "text/plain": [
       "              seg       volumn\n",
       "0         HARDNER   281,907.00\n",
       "1           PRIME 4,809,945.00\n",
       "2             RAS 7,409,469.00\n",
       "3  RF1_MOLTEN,RSI 5,240,780.00\n",
       "4  RF2_MOLTEN,RSI 2,643,845.00\n",
       "5             RSI 5,502,347.00\n",
       "6           SCRAP   117,245.00"
      ]
     },
     "execution_count": 311,
     "metadata": {},
     "output_type": "execute_result"
    }
   ],
   "source": [
    "drop_detail=pd.DataFrame(DF_drop_sum.groupby(['seg'])['volumn'].sum())\n",
    "drop_detail.reset_index()"
   ]
  },
  {
   "cell_type": "code",
   "execution_count": 145,
   "metadata": {},
   "outputs": [],
   "source": [
    "#a=np.transpose(a)"
   ]
  },
  {
   "cell_type": "code",
   "execution_count": null,
   "metadata": {},
   "outputs": [],
   "source": []
  }
 ],
 "metadata": {
  "kernelspec": {
   "display_name": "Python 3",
   "language": "python",
   "name": "python3"
  },
  "language_info": {
   "codemirror_mode": {
    "name": "ipython",
    "version": 3
   },
   "file_extension": ".py",
   "mimetype": "text/x-python",
   "name": "python",
   "nbconvert_exporter": "python",
   "pygments_lexer": "ipython3",
   "version": "3.7.3"
  }
 },
 "nbformat": 4,
 "nbformat_minor": 2
}
