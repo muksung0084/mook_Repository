{
 "cells": [
  {
   "cell_type": "code",
   "execution_count": null,
   "metadata": {
    "scrolled": false
   },
   "outputs": [],
   "source": [
    "from tkinter import *\n",
    "from collections import defaultdict\n",
    "\n",
    "# pd.options.display.float_format = '{:,.2f}'.format\n",
    "win = Tk()\n",
    "win.geometry(\"1000x400\")\n",
    "win.title('Get_Cpk ')\n",
    "win.resizable(True, True)\n",
    "win.option_add(\"*Font\",\"Arial 20\")\n",
    "\n",
    "label1 = Label(win,text='THIS IS FOR YOU!!',width = 30 , height = 3 , fg = 'red', relief ='solid')\n",
    "label1.pack()\n",
    "\n",
    "ent1= Entry(win, width = 50 , bg='light blue')\n",
    "ent1.insert(0,'put the route :)')\n",
    "ent1.pack()\n",
    "\n",
    "K5182_spec = {'Si_usl' :0.13,\n",
    "             'Si_lsl': 0,\n",
    "             'Fe_usl' :0.3,\n",
    "             'Fe_lsl':0,\n",
    "             'Cu_usl' :0.08,\n",
    "             'Cu_lsl':0.06,\n",
    "             'Mn_usl' :0.450,\n",
    "             'Mn_lsl':0.370,\n",
    "             'Mg_usl' :4.70,\n",
    "             'Mg_lsl':4.45}\n",
    "\n",
    "def get_Cpk(df) : \n",
    "    result = {}\n",
    "    def Cpk(mylist, usl, lsl):\n",
    "        arr = np.array(mylist)\n",
    "        #arr = arr.ravel()\n",
    "        std = np.std(arr)\n",
    "        m = np.mean(arr)\n",
    "        Cpu = float(usl - m) / (3*std)\n",
    "        Cpl = float(m - lsl) / (3*std)\n",
    "        Cpk = np.min([Cpu, Cpl])\n",
    "        return Cpk \n",
    "\n",
    "    def K5182_filter(df):\n",
    "        df_rev = df[(df['ALLOY']=='K5182')&(df['순서']==0)]\n",
    "        df_rev = df_rev[['Si','Fe','Cu','Mn','Mg']]\n",
    "        return df_rev    \n",
    "\n",
    "    for i in K5182_filter(df).columns:\n",
    "        result[i]=round(Cpk(K5182_filter(df)[i],K5182_spec[i+'_usl'],K5182_spec[i+'_lsl']),2)\n",
    "\n",
    "    return result\n",
    "\n",
    "def ent_p() :\n",
    "    a=ent1.get()\n",
    "    df=pd.read_excel(a)\n",
    "    label3 = Label(win,text = get_Cpk(df), width = 60, height =4 , fg='blue', relief ='solid' )\n",
    "    label3.pack()\n",
    "\n",
    "btn1= Button(win, text='Result',command = ent_p)\n",
    "btn1.pack(pady=10)\n",
    "\n",
    "win.mainloop()"
   ]
  },
  {
   "cell_type": "code",
   "execution_count": null,
   "metadata": {},
   "outputs": [],
   "source": []
  }
 ],
 "metadata": {
  "kernelspec": {
   "display_name": "Python 3",
   "language": "python",
   "name": "python3"
  },
  "language_info": {
   "codemirror_mode": {
    "name": "ipython",
    "version": 3
   },
   "file_extension": ".py",
   "mimetype": "text/x-python",
   "name": "python",
   "nbconvert_exporter": "python",
   "pygments_lexer": "ipython3",
   "version": "3.7.3"
  }
 },
 "nbformat": 4,
 "nbformat_minor": 2
}
