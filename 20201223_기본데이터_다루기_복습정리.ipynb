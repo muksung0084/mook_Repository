{
  "nbformat": 4,
  "nbformat_minor": 0,
  "metadata": {
    "colab": {
      "name": "20201223_데이터 다루기.ipynb",
      "provenance": [],
      "collapsed_sections": [],
      "authorship_tag": "ABX9TyPGYyg6Xr1KARGhcohFdU6J",
      "include_colab_link": true
    },
    "kernelspec": {
      "name": "python3",
      "display_name": "Python 3"
    }
  },
  "cells": [
    {
      "cell_type": "markdown",
      "metadata": {
        "id": "view-in-github",
        "colab_type": "text"
      },
      "source": [
        "<a href=\"https://colab.research.google.com/github/muksung0084/mook_Repository/blob/master/20201223_%EA%B8%B0%EB%B3%B8%EB%8D%B0%EC%9D%B4%ED%84%B0_%EB%8B%A4%EB%A3%A8%EA%B8%B0_%EB%B3%B5%EC%8A%B5%EC%A0%95%EB%A6%AC.ipynb\" target=\"_parent\"><img src=\"https://colab.research.google.com/assets/colab-badge.svg\" alt=\"Open In Colab\"/></a>"
      ]
    },
    {
      "cell_type": "code",
      "metadata": {
        "id": "cdpMG2ZTQhK2"
      },
      "source": [
        "import pandas as pd\r\n",
        "import numpy as np"
      ],
      "execution_count": 2,
      "outputs": []
    },
    {
      "cell_type": "markdown",
      "metadata": {
        "id": "JQonimcqC0v7"
      },
      "source": [
        "##### pd.DataFrame   , loc, iloc , T(뒤집기)  , df indexing \r\n",
        "##### pd.Series\r\n",
        "##### pd.Index \r\n",
        "##### row drop, column drop \r\n",
        "##### boolean array로 컬럼 선택하기 df[df[''] > 0 ] \r\n",
        "##### dataframe 각 value에 함수 적용 applymap ,, **\r\n",
        "##### dataframe 컬럼 [ series ] 에 함수 적용 apply ** \r\n",
        "##### sort_index, values \r\n"
      ]
    },
    {
      "cell_type": "code",
      "metadata": {
        "id": "x9lMqsSI0ZbK"
      },
      "source": [
        "data = { 'state' : ['A','B','C','C','D'],\r\n",
        "        'year' : [ 200,2001,2002,2001,2002],\r\n",
        "        'pop' : [1.5, 1.7, 3.6, 2.4, 2.9 ]}\r\n",
        "frame = pd.DataFrame(data, columns=['year','state','pop'], index =['one','two','three','four','five'])    # columns로 순서를 지정할 수도 있음, index이름 지정할 수 도 있음 "
      ],
      "execution_count": 3,
      "outputs": []
    },
    {
      "cell_type": "code",
      "metadata": {
        "id": "KURkmRFD0iOg"
      },
      "source": [
        "frame2 = pd.DataFrame(data, columns=['year','state','pop','non'], index =['one','two','three','four','five'])   # 컬럼에 값을 없이 넣으면, 그냥 nan값으로 박힘. "
      ],
      "execution_count": 4,
      "outputs": []
    },
    {
      "cell_type": "code",
      "metadata": {
        "colab": {
          "base_uri": "https://localhost:8080/",
          "height": 162
        },
        "id": "8wuCMplXHef0",
        "outputId": "6db3d46c-7803-4283-c83e-cf0f7cd71a63"
      },
      "source": [
        "# data frame indexing 가능 \r\n",
        "frame[1:3]\r\n",
        "# index name으로도 가능 \r\n",
        "frame['two':'five']"
      ],
      "execution_count": 5,
      "outputs": [
        {
          "output_type": "execute_result",
          "data": {
            "text/html": [
              "<div>\n",
              "<style scoped>\n",
              "    .dataframe tbody tr th:only-of-type {\n",
              "        vertical-align: middle;\n",
              "    }\n",
              "\n",
              "    .dataframe tbody tr th {\n",
              "        vertical-align: top;\n",
              "    }\n",
              "\n",
              "    .dataframe thead th {\n",
              "        text-align: right;\n",
              "    }\n",
              "</style>\n",
              "<table border=\"1\" class=\"dataframe\">\n",
              "  <thead>\n",
              "    <tr style=\"text-align: right;\">\n",
              "      <th></th>\n",
              "      <th>year</th>\n",
              "      <th>state</th>\n",
              "      <th>pop</th>\n",
              "    </tr>\n",
              "  </thead>\n",
              "  <tbody>\n",
              "    <tr>\n",
              "      <th>two</th>\n",
              "      <td>2001</td>\n",
              "      <td>B</td>\n",
              "      <td>1.7</td>\n",
              "    </tr>\n",
              "    <tr>\n",
              "      <th>three</th>\n",
              "      <td>2002</td>\n",
              "      <td>C</td>\n",
              "      <td>3.6</td>\n",
              "    </tr>\n",
              "    <tr>\n",
              "      <th>four</th>\n",
              "      <td>2001</td>\n",
              "      <td>C</td>\n",
              "      <td>2.4</td>\n",
              "    </tr>\n",
              "    <tr>\n",
              "      <th>five</th>\n",
              "      <td>2002</td>\n",
              "      <td>D</td>\n",
              "      <td>2.9</td>\n",
              "    </tr>\n",
              "  </tbody>\n",
              "</table>\n",
              "</div>"
            ],
            "text/plain": [
              "       year state  pop\n",
              "two    2001     B  1.7\n",
              "three  2002     C  3.6\n",
              "four   2001     C  2.4\n",
              "five   2002     D  2.9"
            ]
          },
          "metadata": {
            "tags": []
          },
          "execution_count": 5
        }
      ]
    },
    {
      "cell_type": "code",
      "metadata": {
        "colab": {
          "base_uri": "https://localhost:8080/"
        },
        "id": "a93SesP83bNq",
        "outputId": "2b76607f-6d0e-4ed1-c977-2020ee7057c7"
      },
      "source": [
        "print(frame2.loc[['one','two']])   # index 접근  with loc  , idx 명으로 \r\n",
        "print()\r\n",
        "print(frame2.iloc[0:2])           # index 접근  with iloc    , 순서로   "
      ],
      "execution_count": 6,
      "outputs": [
        {
          "output_type": "stream",
          "text": [
            "     year state  pop  non\n",
            "one   200     A  1.5  NaN\n",
            "two  2001     B  1.7  NaN\n",
            "\n",
            "     year state  pop  non\n",
            "one   200     A  1.5  NaN\n",
            "two  2001     B  1.7  NaN\n"
          ],
          "name": "stdout"
        }
      ]
    },
    {
      "cell_type": "code",
      "metadata": {
        "colab": {
          "base_uri": "https://localhost:8080/",
          "height": 133
        },
        "id": "rdMPgP5qJc4_",
        "outputId": "3de4126c-73cc-4734-f1b6-bd7106ccf4bf"
      },
      "source": [
        "frame.loc['one':'three'][['year','pop']]"
      ],
      "execution_count": 7,
      "outputs": [
        {
          "output_type": "execute_result",
          "data": {
            "text/html": [
              "<div>\n",
              "<style scoped>\n",
              "    .dataframe tbody tr th:only-of-type {\n",
              "        vertical-align: middle;\n",
              "    }\n",
              "\n",
              "    .dataframe tbody tr th {\n",
              "        vertical-align: top;\n",
              "    }\n",
              "\n",
              "    .dataframe thead th {\n",
              "        text-align: right;\n",
              "    }\n",
              "</style>\n",
              "<table border=\"1\" class=\"dataframe\">\n",
              "  <thead>\n",
              "    <tr style=\"text-align: right;\">\n",
              "      <th></th>\n",
              "      <th>year</th>\n",
              "      <th>pop</th>\n",
              "    </tr>\n",
              "  </thead>\n",
              "  <tbody>\n",
              "    <tr>\n",
              "      <th>one</th>\n",
              "      <td>200</td>\n",
              "      <td>1.5</td>\n",
              "    </tr>\n",
              "    <tr>\n",
              "      <th>two</th>\n",
              "      <td>2001</td>\n",
              "      <td>1.7</td>\n",
              "    </tr>\n",
              "    <tr>\n",
              "      <th>three</th>\n",
              "      <td>2002</td>\n",
              "      <td>3.6</td>\n",
              "    </tr>\n",
              "  </tbody>\n",
              "</table>\n",
              "</div>"
            ],
            "text/plain": [
              "       year  pop\n",
              "one     200  1.5\n",
              "two    2001  1.7\n",
              "three  2002  3.6"
            ]
          },
          "metadata": {
            "tags": []
          },
          "execution_count": 7
        }
      ]
    },
    {
      "cell_type": "code",
      "metadata": {
        "colab": {
          "base_uri": "https://localhost:8080/",
          "height": 162
        },
        "id": "BqxEHZ5H36e4",
        "outputId": "d336e1ef-42b2-412c-f0c9-ebb9344c6628"
      },
      "source": [
        "frame2.T     # 컬럼과 인덱스 순서 뒤집기 "
      ],
      "execution_count": 8,
      "outputs": [
        {
          "output_type": "execute_result",
          "data": {
            "text/html": [
              "<div>\n",
              "<style scoped>\n",
              "    .dataframe tbody tr th:only-of-type {\n",
              "        vertical-align: middle;\n",
              "    }\n",
              "\n",
              "    .dataframe tbody tr th {\n",
              "        vertical-align: top;\n",
              "    }\n",
              "\n",
              "    .dataframe thead th {\n",
              "        text-align: right;\n",
              "    }\n",
              "</style>\n",
              "<table border=\"1\" class=\"dataframe\">\n",
              "  <thead>\n",
              "    <tr style=\"text-align: right;\">\n",
              "      <th></th>\n",
              "      <th>one</th>\n",
              "      <th>two</th>\n",
              "      <th>three</th>\n",
              "      <th>four</th>\n",
              "      <th>five</th>\n",
              "    </tr>\n",
              "  </thead>\n",
              "  <tbody>\n",
              "    <tr>\n",
              "      <th>year</th>\n",
              "      <td>200</td>\n",
              "      <td>2001</td>\n",
              "      <td>2002</td>\n",
              "      <td>2001</td>\n",
              "      <td>2002</td>\n",
              "    </tr>\n",
              "    <tr>\n",
              "      <th>state</th>\n",
              "      <td>A</td>\n",
              "      <td>B</td>\n",
              "      <td>C</td>\n",
              "      <td>C</td>\n",
              "      <td>D</td>\n",
              "    </tr>\n",
              "    <tr>\n",
              "      <th>pop</th>\n",
              "      <td>1.5</td>\n",
              "      <td>1.7</td>\n",
              "      <td>3.6</td>\n",
              "      <td>2.4</td>\n",
              "      <td>2.9</td>\n",
              "    </tr>\n",
              "    <tr>\n",
              "      <th>non</th>\n",
              "      <td>NaN</td>\n",
              "      <td>NaN</td>\n",
              "      <td>NaN</td>\n",
              "      <td>NaN</td>\n",
              "      <td>NaN</td>\n",
              "    </tr>\n",
              "  </tbody>\n",
              "</table>\n",
              "</div>"
            ],
            "text/plain": [
              "       one   two three  four  five\n",
              "year   200  2001  2002  2001  2002\n",
              "state    A     B     C     C     D\n",
              "pop    1.5   1.7   3.6   2.4   2.9\n",
              "non    NaN   NaN   NaN   NaN   NaN"
            ]
          },
          "metadata": {
            "tags": []
          },
          "execution_count": 8
        }
      ]
    },
    {
      "cell_type": "code",
      "metadata": {
        "colab": {
          "base_uri": "https://localhost:8080/",
          "height": 191
        },
        "id": "Cl-iPzst68io",
        "outputId": "00f4840b-12b4-4d38-f3e7-a8abc1abbde5"
      },
      "source": [
        "# series 정하기 --> indexting 하기 \r\n",
        "# 리스트 혹은 array를 dataframe 안에 대입할때 --> 필히 대입하려는 값의 길이가 dataframe 크기( 열 개수 ) 와 같아야 함. or 특정 index에 따로 지정해줘야함. \r\n",
        "val = pd.Series([-1.2,-1.5,-1.7],index = ['two', 'four','five'])\r\n",
        "frame['debt'] = val\r\n",
        "frame"
      ],
      "execution_count": 9,
      "outputs": [
        {
          "output_type": "execute_result",
          "data": {
            "text/html": [
              "<div>\n",
              "<style scoped>\n",
              "    .dataframe tbody tr th:only-of-type {\n",
              "        vertical-align: middle;\n",
              "    }\n",
              "\n",
              "    .dataframe tbody tr th {\n",
              "        vertical-align: top;\n",
              "    }\n",
              "\n",
              "    .dataframe thead th {\n",
              "        text-align: right;\n",
              "    }\n",
              "</style>\n",
              "<table border=\"1\" class=\"dataframe\">\n",
              "  <thead>\n",
              "    <tr style=\"text-align: right;\">\n",
              "      <th></th>\n",
              "      <th>year</th>\n",
              "      <th>state</th>\n",
              "      <th>pop</th>\n",
              "      <th>debt</th>\n",
              "    </tr>\n",
              "  </thead>\n",
              "  <tbody>\n",
              "    <tr>\n",
              "      <th>one</th>\n",
              "      <td>200</td>\n",
              "      <td>A</td>\n",
              "      <td>1.5</td>\n",
              "      <td>NaN</td>\n",
              "    </tr>\n",
              "    <tr>\n",
              "      <th>two</th>\n",
              "      <td>2001</td>\n",
              "      <td>B</td>\n",
              "      <td>1.7</td>\n",
              "      <td>-1.2</td>\n",
              "    </tr>\n",
              "    <tr>\n",
              "      <th>three</th>\n",
              "      <td>2002</td>\n",
              "      <td>C</td>\n",
              "      <td>3.6</td>\n",
              "      <td>NaN</td>\n",
              "    </tr>\n",
              "    <tr>\n",
              "      <th>four</th>\n",
              "      <td>2001</td>\n",
              "      <td>C</td>\n",
              "      <td>2.4</td>\n",
              "      <td>-1.5</td>\n",
              "    </tr>\n",
              "    <tr>\n",
              "      <th>five</th>\n",
              "      <td>2002</td>\n",
              "      <td>D</td>\n",
              "      <td>2.9</td>\n",
              "      <td>-1.7</td>\n",
              "    </tr>\n",
              "  </tbody>\n",
              "</table>\n",
              "</div>"
            ],
            "text/plain": [
              "       year state  pop  debt\n",
              "one     200     A  1.5   NaN\n",
              "two    2001     B  1.7  -1.2\n",
              "three  2002     C  3.6   NaN\n",
              "four   2001     C  2.4  -1.5\n",
              "five   2002     D  2.9  -1.7"
            ]
          },
          "metadata": {
            "tags": []
          },
          "execution_count": 9
        }
      ]
    },
    {
      "cell_type": "code",
      "metadata": {
        "id": "gZwArL0d8f85"
      },
      "source": [
        "# index 축 제목 정하기 ,  컬럼 제목 정하기 \r\n",
        "frame.index.name = 'index name'\r\n",
        "frame.columns.name = 'columns name'"
      ],
      "execution_count": 10,
      "outputs": []
    },
    {
      "cell_type": "code",
      "metadata": {
        "colab": {
          "base_uri": "https://localhost:8080/",
          "height": 220
        },
        "id": "zeQYJPNi9qZT",
        "outputId": "054b9179-8ab1-4364-eb07-ca4192c2106e"
      },
      "source": [
        "frame"
      ],
      "execution_count": 11,
      "outputs": [
        {
          "output_type": "execute_result",
          "data": {
            "text/html": [
              "<div>\n",
              "<style scoped>\n",
              "    .dataframe tbody tr th:only-of-type {\n",
              "        vertical-align: middle;\n",
              "    }\n",
              "\n",
              "    .dataframe tbody tr th {\n",
              "        vertical-align: top;\n",
              "    }\n",
              "\n",
              "    .dataframe thead th {\n",
              "        text-align: right;\n",
              "    }\n",
              "</style>\n",
              "<table border=\"1\" class=\"dataframe\">\n",
              "  <thead>\n",
              "    <tr style=\"text-align: right;\">\n",
              "      <th>columns name</th>\n",
              "      <th>year</th>\n",
              "      <th>state</th>\n",
              "      <th>pop</th>\n",
              "      <th>debt</th>\n",
              "    </tr>\n",
              "    <tr>\n",
              "      <th>index name</th>\n",
              "      <th></th>\n",
              "      <th></th>\n",
              "      <th></th>\n",
              "      <th></th>\n",
              "    </tr>\n",
              "  </thead>\n",
              "  <tbody>\n",
              "    <tr>\n",
              "      <th>one</th>\n",
              "      <td>200</td>\n",
              "      <td>A</td>\n",
              "      <td>1.5</td>\n",
              "      <td>NaN</td>\n",
              "    </tr>\n",
              "    <tr>\n",
              "      <th>two</th>\n",
              "      <td>2001</td>\n",
              "      <td>B</td>\n",
              "      <td>1.7</td>\n",
              "      <td>-1.2</td>\n",
              "    </tr>\n",
              "    <tr>\n",
              "      <th>three</th>\n",
              "      <td>2002</td>\n",
              "      <td>C</td>\n",
              "      <td>3.6</td>\n",
              "      <td>NaN</td>\n",
              "    </tr>\n",
              "    <tr>\n",
              "      <th>four</th>\n",
              "      <td>2001</td>\n",
              "      <td>C</td>\n",
              "      <td>2.4</td>\n",
              "      <td>-1.5</td>\n",
              "    </tr>\n",
              "    <tr>\n",
              "      <th>five</th>\n",
              "      <td>2002</td>\n",
              "      <td>D</td>\n",
              "      <td>2.9</td>\n",
              "      <td>-1.7</td>\n",
              "    </tr>\n",
              "  </tbody>\n",
              "</table>\n",
              "</div>"
            ],
            "text/plain": [
              "columns name  year state  pop  debt\n",
              "index name                         \n",
              "one            200     A  1.5   NaN\n",
              "two           2001     B  1.7  -1.2\n",
              "three         2002     C  3.6   NaN\n",
              "four          2001     C  2.4  -1.5\n",
              "five          2002     D  2.9  -1.7"
            ]
          },
          "metadata": {
            "tags": []
          },
          "execution_count": 11
        }
      ]
    },
    {
      "cell_type": "code",
      "metadata": {
        "id": "l2Bfg56TAlVb"
      },
      "source": [
        "# pd.index 정의 하기 --> 바꿀 수 없음 \r\n",
        "index = pd.Index(range(3))"
      ],
      "execution_count": 12,
      "outputs": []
    },
    {
      "cell_type": "code",
      "metadata": {
        "colab": {
          "base_uri": "https://localhost:8080/"
        },
        "id": "kmv15hq_BtKi",
        "outputId": "7a8e8727-081e-4996-c26f-6464082f3efc"
      },
      "source": [
        "'one' in frame.index"
      ],
      "execution_count": 13,
      "outputs": [
        {
          "output_type": "execute_result",
          "data": {
            "text/plain": [
              "True"
            ]
          },
          "metadata": {
            "tags": []
          },
          "execution_count": 13
        }
      ]
    },
    {
      "cell_type": "code",
      "metadata": {
        "colab": {
          "base_uri": "https://localhost:8080/",
          "height": 220
        },
        "id": "AAN0AOMYCEr6",
        "outputId": "2f934141-f5c4-4d6e-a140-00c58f519a26"
      },
      "source": [
        "frame"
      ],
      "execution_count": 14,
      "outputs": [
        {
          "output_type": "execute_result",
          "data": {
            "text/html": [
              "<div>\n",
              "<style scoped>\n",
              "    .dataframe tbody tr th:only-of-type {\n",
              "        vertical-align: middle;\n",
              "    }\n",
              "\n",
              "    .dataframe tbody tr th {\n",
              "        vertical-align: top;\n",
              "    }\n",
              "\n",
              "    .dataframe thead th {\n",
              "        text-align: right;\n",
              "    }\n",
              "</style>\n",
              "<table border=\"1\" class=\"dataframe\">\n",
              "  <thead>\n",
              "    <tr style=\"text-align: right;\">\n",
              "      <th>columns name</th>\n",
              "      <th>year</th>\n",
              "      <th>state</th>\n",
              "      <th>pop</th>\n",
              "      <th>debt</th>\n",
              "    </tr>\n",
              "    <tr>\n",
              "      <th>index name</th>\n",
              "      <th></th>\n",
              "      <th></th>\n",
              "      <th></th>\n",
              "      <th></th>\n",
              "    </tr>\n",
              "  </thead>\n",
              "  <tbody>\n",
              "    <tr>\n",
              "      <th>one</th>\n",
              "      <td>200</td>\n",
              "      <td>A</td>\n",
              "      <td>1.5</td>\n",
              "      <td>NaN</td>\n",
              "    </tr>\n",
              "    <tr>\n",
              "      <th>two</th>\n",
              "      <td>2001</td>\n",
              "      <td>B</td>\n",
              "      <td>1.7</td>\n",
              "      <td>-1.2</td>\n",
              "    </tr>\n",
              "    <tr>\n",
              "      <th>three</th>\n",
              "      <td>2002</td>\n",
              "      <td>C</td>\n",
              "      <td>3.6</td>\n",
              "      <td>NaN</td>\n",
              "    </tr>\n",
              "    <tr>\n",
              "      <th>four</th>\n",
              "      <td>2001</td>\n",
              "      <td>C</td>\n",
              "      <td>2.4</td>\n",
              "      <td>-1.5</td>\n",
              "    </tr>\n",
              "    <tr>\n",
              "      <th>five</th>\n",
              "      <td>2002</td>\n",
              "      <td>D</td>\n",
              "      <td>2.9</td>\n",
              "      <td>-1.7</td>\n",
              "    </tr>\n",
              "  </tbody>\n",
              "</table>\n",
              "</div>"
            ],
            "text/plain": [
              "columns name  year state  pop  debt\n",
              "index name                         \n",
              "one            200     A  1.5   NaN\n",
              "two           2001     B  1.7  -1.2\n",
              "three         2002     C  3.6   NaN\n",
              "four          2001     C  2.4  -1.5\n",
              "five          2002     D  2.9  -1.7"
            ]
          },
          "metadata": {
            "tags": []
          },
          "execution_count": 14
        }
      ]
    },
    {
      "cell_type": "code",
      "metadata": {
        "colab": {
          "base_uri": "https://localhost:8080/",
          "height": 162
        },
        "id": "IrQPCGgpGCiA",
        "outputId": "408603b9-92e1-4f72-a51e-2def2fce6974"
      },
      "source": [
        "# row 삭제 , axis = 0 \r\n",
        "frame.drop('one')\r\n",
        "frame.drop(['one','five'])"
      ],
      "execution_count": 15,
      "outputs": [
        {
          "output_type": "execute_result",
          "data": {
            "text/html": [
              "<div>\n",
              "<style scoped>\n",
              "    .dataframe tbody tr th:only-of-type {\n",
              "        vertical-align: middle;\n",
              "    }\n",
              "\n",
              "    .dataframe tbody tr th {\n",
              "        vertical-align: top;\n",
              "    }\n",
              "\n",
              "    .dataframe thead th {\n",
              "        text-align: right;\n",
              "    }\n",
              "</style>\n",
              "<table border=\"1\" class=\"dataframe\">\n",
              "  <thead>\n",
              "    <tr style=\"text-align: right;\">\n",
              "      <th>columns name</th>\n",
              "      <th>year</th>\n",
              "      <th>state</th>\n",
              "      <th>pop</th>\n",
              "      <th>debt</th>\n",
              "    </tr>\n",
              "    <tr>\n",
              "      <th>index name</th>\n",
              "      <th></th>\n",
              "      <th></th>\n",
              "      <th></th>\n",
              "      <th></th>\n",
              "    </tr>\n",
              "  </thead>\n",
              "  <tbody>\n",
              "    <tr>\n",
              "      <th>two</th>\n",
              "      <td>2001</td>\n",
              "      <td>B</td>\n",
              "      <td>1.7</td>\n",
              "      <td>-1.2</td>\n",
              "    </tr>\n",
              "    <tr>\n",
              "      <th>three</th>\n",
              "      <td>2002</td>\n",
              "      <td>C</td>\n",
              "      <td>3.6</td>\n",
              "      <td>NaN</td>\n",
              "    </tr>\n",
              "    <tr>\n",
              "      <th>four</th>\n",
              "      <td>2001</td>\n",
              "      <td>C</td>\n",
              "      <td>2.4</td>\n",
              "      <td>-1.5</td>\n",
              "    </tr>\n",
              "  </tbody>\n",
              "</table>\n",
              "</div>"
            ],
            "text/plain": [
              "columns name  year state  pop  debt\n",
              "index name                         \n",
              "two           2001     B  1.7  -1.2\n",
              "three         2002     C  3.6   NaN\n",
              "four          2001     C  2.4  -1.5"
            ]
          },
          "metadata": {
            "tags": []
          },
          "execution_count": 15
        }
      ]
    },
    {
      "cell_type": "code",
      "metadata": {
        "colab": {
          "base_uri": "https://localhost:8080/",
          "height": 220
        },
        "id": "uN5MLXj_Gw_Q",
        "outputId": "79669d9e-73f3-45c7-f6db-b74b5e6bfd19"
      },
      "source": [
        "# column 삭제  , axis = 1 \r\n",
        "frame.drop('year',axis=1)\r\n",
        "frame.drop(['year','pop'],axis=1)"
      ],
      "execution_count": 16,
      "outputs": [
        {
          "output_type": "execute_result",
          "data": {
            "text/html": [
              "<div>\n",
              "<style scoped>\n",
              "    .dataframe tbody tr th:only-of-type {\n",
              "        vertical-align: middle;\n",
              "    }\n",
              "\n",
              "    .dataframe tbody tr th {\n",
              "        vertical-align: top;\n",
              "    }\n",
              "\n",
              "    .dataframe thead th {\n",
              "        text-align: right;\n",
              "    }\n",
              "</style>\n",
              "<table border=\"1\" class=\"dataframe\">\n",
              "  <thead>\n",
              "    <tr style=\"text-align: right;\">\n",
              "      <th>columns name</th>\n",
              "      <th>state</th>\n",
              "      <th>debt</th>\n",
              "    </tr>\n",
              "    <tr>\n",
              "      <th>index name</th>\n",
              "      <th></th>\n",
              "      <th></th>\n",
              "    </tr>\n",
              "  </thead>\n",
              "  <tbody>\n",
              "    <tr>\n",
              "      <th>one</th>\n",
              "      <td>A</td>\n",
              "      <td>NaN</td>\n",
              "    </tr>\n",
              "    <tr>\n",
              "      <th>two</th>\n",
              "      <td>B</td>\n",
              "      <td>-1.2</td>\n",
              "    </tr>\n",
              "    <tr>\n",
              "      <th>three</th>\n",
              "      <td>C</td>\n",
              "      <td>NaN</td>\n",
              "    </tr>\n",
              "    <tr>\n",
              "      <th>four</th>\n",
              "      <td>C</td>\n",
              "      <td>-1.5</td>\n",
              "    </tr>\n",
              "    <tr>\n",
              "      <th>five</th>\n",
              "      <td>D</td>\n",
              "      <td>-1.7</td>\n",
              "    </tr>\n",
              "  </tbody>\n",
              "</table>\n",
              "</div>"
            ],
            "text/plain": [
              "columns name state  debt\n",
              "index name              \n",
              "one              A   NaN\n",
              "two              B  -1.2\n",
              "three            C   NaN\n",
              "four             C  -1.5\n",
              "five             D  -1.7"
            ]
          },
          "metadata": {
            "tags": []
          },
          "execution_count": 16
        }
      ]
    },
    {
      "cell_type": "code",
      "metadata": {
        "colab": {
          "base_uri": "https://localhost:8080/",
          "height": 162
        },
        "id": "0Up-_g7LHy-j",
        "outputId": "363eebcc-08bb-4e09-a607-e86bafca54a3"
      },
      "source": [
        "# boolean으로 column choose 하기\r\n",
        "frame[frame['debt']<0]"
      ],
      "execution_count": 17,
      "outputs": [
        {
          "output_type": "execute_result",
          "data": {
            "text/html": [
              "<div>\n",
              "<style scoped>\n",
              "    .dataframe tbody tr th:only-of-type {\n",
              "        vertical-align: middle;\n",
              "    }\n",
              "\n",
              "    .dataframe tbody tr th {\n",
              "        vertical-align: top;\n",
              "    }\n",
              "\n",
              "    .dataframe thead th {\n",
              "        text-align: right;\n",
              "    }\n",
              "</style>\n",
              "<table border=\"1\" class=\"dataframe\">\n",
              "  <thead>\n",
              "    <tr style=\"text-align: right;\">\n",
              "      <th>columns name</th>\n",
              "      <th>year</th>\n",
              "      <th>state</th>\n",
              "      <th>pop</th>\n",
              "      <th>debt</th>\n",
              "    </tr>\n",
              "    <tr>\n",
              "      <th>index name</th>\n",
              "      <th></th>\n",
              "      <th></th>\n",
              "      <th></th>\n",
              "      <th></th>\n",
              "    </tr>\n",
              "  </thead>\n",
              "  <tbody>\n",
              "    <tr>\n",
              "      <th>two</th>\n",
              "      <td>2001</td>\n",
              "      <td>B</td>\n",
              "      <td>1.7</td>\n",
              "      <td>-1.2</td>\n",
              "    </tr>\n",
              "    <tr>\n",
              "      <th>four</th>\n",
              "      <td>2001</td>\n",
              "      <td>C</td>\n",
              "      <td>2.4</td>\n",
              "      <td>-1.5</td>\n",
              "    </tr>\n",
              "    <tr>\n",
              "      <th>five</th>\n",
              "      <td>2002</td>\n",
              "      <td>D</td>\n",
              "      <td>2.9</td>\n",
              "      <td>-1.7</td>\n",
              "    </tr>\n",
              "  </tbody>\n",
              "</table>\n",
              "</div>"
            ],
            "text/plain": [
              "columns name  year state  pop  debt\n",
              "index name                         \n",
              "two           2001     B  1.7  -1.2\n",
              "four          2001     C  2.4  -1.5\n",
              "five          2002     D  2.9  -1.7"
            ]
          },
          "metadata": {
            "tags": []
          },
          "execution_count": 17
        }
      ]
    },
    {
      "cell_type": "code",
      "metadata": {
        "colab": {
          "base_uri": "https://localhost:8080/"
        },
        "id": "d9KKkNRoI3KJ",
        "outputId": "6d2bbec4-8a1c-47ce-dd92-721854e0a9fb"
      },
      "source": [
        "# DataFrame 혹은  Series에 함수 적용하기.  apply, applymap\r\n",
        "\r\n",
        "sample = pd.DataFrame(np.random.randn(4,3) , columns = list('abc') , \r\n",
        "                      index = ['q','w','e','r'])    # random.randn으로 랜덤한 값으로 matrix 만들기 \r\n",
        "\r\n",
        "f = lambda x: '%.f'%x    # dataframe에서 각 컬럼별 열값에 모두다 각각각가가각 이 함수를 적용하고 싶은 경우  applymap \r\n",
        "\r\n",
        "print(sample.applymap(f))\r\n",
        "print()\r\n",
        "k = lambda x : x.max() - x.min()   # 컬럼별로 적용 하고 싶은 함수식인 경우  apply\r\n",
        "\r\n",
        "print(sample['a'].max(), sample['a'].min(),sample['a'].max()-sample['a'].min())\r\n",
        "print()\r\n",
        "print(sample.apply(k))"
      ],
      "execution_count": 18,
      "outputs": [
        {
          "output_type": "stream",
          "text": [
            "    a   b   c\n",
            "q  -0   1   0\n",
            "w   1   1  -2\n",
            "e   0  -0   0\n",
            "r  -1   0   1\n",
            "\n",
            "0.8913962297877507 -0.8809985156006003 1.7723947453883508\n",
            "\n",
            "a    1.772395\n",
            "b    1.316233\n",
            "c    2.357777\n",
            "dtype: float64\n"
          ],
          "name": "stdout"
        }
      ]
    },
    {
      "cell_type": "code",
      "metadata": {
        "colab": {
          "base_uri": "https://localhost:8080/"
        },
        "id": "mYdyTvBjLXuE",
        "outputId": "4ca81dc8-cd18-4d72-cf9d-79d8f8894c2d"
      },
      "source": [
        "# row, column 정렬하기  \r\n",
        "# ascending parameter로 오름내림 기준.\r\n",
        "print(frame )\r\n",
        "print(frame.sort_index() )  # index 오름차순 정렬  -- ob면 알파벳 순서 \r\n",
        "print(frame )\r\n",
        "print(frame.sort_index(axis=1) )   # column 오른 차순 정렬 \r\n",
        "print(frame.sort_index(axis=1,ascending = False ) )   # column 내림 차순 정렬 "
      ],
      "execution_count": 19,
      "outputs": [
        {
          "output_type": "stream",
          "text": [
            "columns name  year state  pop  debt\n",
            "index name                         \n",
            "one            200     A  1.5   NaN\n",
            "two           2001     B  1.7  -1.2\n",
            "three         2002     C  3.6   NaN\n",
            "four          2001     C  2.4  -1.5\n",
            "five          2002     D  2.9  -1.7\n",
            "columns name  year state  pop  debt\n",
            "index name                         \n",
            "five          2002     D  2.9  -1.7\n",
            "four          2001     C  2.4  -1.5\n",
            "one            200     A  1.5   NaN\n",
            "three         2002     C  3.6   NaN\n",
            "two           2001     B  1.7  -1.2\n",
            "columns name  year state  pop  debt\n",
            "index name                         \n",
            "one            200     A  1.5   NaN\n",
            "two           2001     B  1.7  -1.2\n",
            "three         2002     C  3.6   NaN\n",
            "four          2001     C  2.4  -1.5\n",
            "five          2002     D  2.9  -1.7\n",
            "columns name  debt  pop state  year\n",
            "index name                         \n",
            "one            NaN  1.5     A   200\n",
            "two           -1.2  1.7     B  2001\n",
            "three          NaN  3.6     C  2002\n",
            "four          -1.5  2.4     C  2001\n",
            "five          -1.7  2.9     D  2002\n",
            "columns name  year state  pop  debt\n",
            "index name                         \n",
            "one            200     A  1.5   NaN\n",
            "two           2001     B  1.7  -1.2\n",
            "three         2002     C  3.6   NaN\n",
            "four          2001     C  2.4  -1.5\n",
            "five          2002     D  2.9  -1.7\n"
          ],
          "name": "stdout"
        }
      ]
    },
    {
      "cell_type": "code",
      "metadata": {
        "colab": {
          "base_uri": "https://localhost:8080/",
          "height": 220
        },
        "id": "R4vX72ajLZ9V",
        "outputId": "96e92f44-16bc-407b-a65b-ee3c9b5b91d8"
      },
      "source": [
        "# value에 따른 정리  --> 1차원 즉 series단위 --> column단위로 적용됨 in df \r\n",
        "# 따라서 원하는 컬럼을 지정해서 그 컬럼의 값크기에 따라서 정렬이 됨. --> 여러 컬럼을 순차적으로 넣으면 그 순서에 맞게 순차 적용 됨. \r\n",
        "# ascending parameter로 오름내림 기준.\r\n",
        "\r\n",
        "frame.sort_values(by = ['year','debt'],ascending = False)"
      ],
      "execution_count": 20,
      "outputs": [
        {
          "output_type": "execute_result",
          "data": {
            "text/html": [
              "<div>\n",
              "<style scoped>\n",
              "    .dataframe tbody tr th:only-of-type {\n",
              "        vertical-align: middle;\n",
              "    }\n",
              "\n",
              "    .dataframe tbody tr th {\n",
              "        vertical-align: top;\n",
              "    }\n",
              "\n",
              "    .dataframe thead th {\n",
              "        text-align: right;\n",
              "    }\n",
              "</style>\n",
              "<table border=\"1\" class=\"dataframe\">\n",
              "  <thead>\n",
              "    <tr style=\"text-align: right;\">\n",
              "      <th>columns name</th>\n",
              "      <th>year</th>\n",
              "      <th>state</th>\n",
              "      <th>pop</th>\n",
              "      <th>debt</th>\n",
              "    </tr>\n",
              "    <tr>\n",
              "      <th>index name</th>\n",
              "      <th></th>\n",
              "      <th></th>\n",
              "      <th></th>\n",
              "      <th></th>\n",
              "    </tr>\n",
              "  </thead>\n",
              "  <tbody>\n",
              "    <tr>\n",
              "      <th>five</th>\n",
              "      <td>2002</td>\n",
              "      <td>D</td>\n",
              "      <td>2.9</td>\n",
              "      <td>-1.7</td>\n",
              "    </tr>\n",
              "    <tr>\n",
              "      <th>three</th>\n",
              "      <td>2002</td>\n",
              "      <td>C</td>\n",
              "      <td>3.6</td>\n",
              "      <td>NaN</td>\n",
              "    </tr>\n",
              "    <tr>\n",
              "      <th>two</th>\n",
              "      <td>2001</td>\n",
              "      <td>B</td>\n",
              "      <td>1.7</td>\n",
              "      <td>-1.2</td>\n",
              "    </tr>\n",
              "    <tr>\n",
              "      <th>four</th>\n",
              "      <td>2001</td>\n",
              "      <td>C</td>\n",
              "      <td>2.4</td>\n",
              "      <td>-1.5</td>\n",
              "    </tr>\n",
              "    <tr>\n",
              "      <th>one</th>\n",
              "      <td>200</td>\n",
              "      <td>A</td>\n",
              "      <td>1.5</td>\n",
              "      <td>NaN</td>\n",
              "    </tr>\n",
              "  </tbody>\n",
              "</table>\n",
              "</div>"
            ],
            "text/plain": [
              "columns name  year state  pop  debt\n",
              "index name                         \n",
              "five          2002     D  2.9  -1.7\n",
              "three         2002     C  3.6   NaN\n",
              "two           2001     B  1.7  -1.2\n",
              "four          2001     C  2.4  -1.5\n",
              "one            200     A  1.5   NaN"
            ]
          },
          "metadata": {
            "tags": []
          },
          "execution_count": 20
        }
      ]
    },
    {
      "cell_type": "code",
      "metadata": {
        "colab": {
          "base_uri": "https://localhost:8080/"
        },
        "id": "VR-kzBAnQu2V",
        "outputId": "1a24cfeb-4345-4741-9787-d97aee79cc2b"
      },
      "source": [
        "frame['debt'].rank(method = 'first').mean(axis=0,skipna=True)   # siipna를 통해 nan 값 스킵하고 계산 or not 가능    "
      ],
      "execution_count": 26,
      "outputs": [
        {
          "output_type": "execute_result",
          "data": {
            "text/plain": [
              "2.0"
            ]
          },
          "metadata": {
            "tags": []
          },
          "execution_count": 26
        }
      ]
    },
    {
      "cell_type": "code",
      "metadata": {
        "colab": {
          "base_uri": "https://localhost:8080/"
        },
        "id": "Hrw-bOM3SAnD",
        "outputId": "8c615168-67ab-459d-e42e-8ddd86378c8c"
      },
      "source": [
        "frame.sum(axis =1 )"
      ],
      "execution_count": 22,
      "outputs": [
        {
          "output_type": "execute_result",
          "data": {
            "text/plain": [
              "index name\n",
              "one       201.5\n",
              "two      2001.5\n",
              "three    2005.6\n",
              "four     2001.9\n",
              "five     2003.2\n",
              "dtype: float64"
            ]
          },
          "metadata": {
            "tags": []
          },
          "execution_count": 22
        }
      ]
    },
    {
      "cell_type": "code",
      "metadata": {
        "colab": {
          "base_uri": "https://localhost:8080/",
          "height": 277
        },
        "id": "6R-peZRpDX5o",
        "outputId": "1467d7f9-6009-4415-fea2-8b1e3c40315c"
      },
      "source": [
        "frame.describe()"
      ],
      "execution_count": 29,
      "outputs": [
        {
          "output_type": "execute_result",
          "data": {
            "text/html": [
              "<div>\n",
              "<style scoped>\n",
              "    .dataframe tbody tr th:only-of-type {\n",
              "        vertical-align: middle;\n",
              "    }\n",
              "\n",
              "    .dataframe tbody tr th {\n",
              "        vertical-align: top;\n",
              "    }\n",
              "\n",
              "    .dataframe thead th {\n",
              "        text-align: right;\n",
              "    }\n",
              "</style>\n",
              "<table border=\"1\" class=\"dataframe\">\n",
              "  <thead>\n",
              "    <tr style=\"text-align: right;\">\n",
              "      <th>columns name</th>\n",
              "      <th>year</th>\n",
              "      <th>pop</th>\n",
              "      <th>debt</th>\n",
              "    </tr>\n",
              "  </thead>\n",
              "  <tbody>\n",
              "    <tr>\n",
              "      <th>count</th>\n",
              "      <td>5.000000</td>\n",
              "      <td>5.000000</td>\n",
              "      <td>3.000000</td>\n",
              "    </tr>\n",
              "    <tr>\n",
              "      <th>mean</th>\n",
              "      <td>1641.200000</td>\n",
              "      <td>2.420000</td>\n",
              "      <td>-1.466667</td>\n",
              "    </tr>\n",
              "    <tr>\n",
              "      <th>std</th>\n",
              "      <td>805.655447</td>\n",
              "      <td>0.864292</td>\n",
              "      <td>0.251661</td>\n",
              "    </tr>\n",
              "    <tr>\n",
              "      <th>min</th>\n",
              "      <td>200.000000</td>\n",
              "      <td>1.500000</td>\n",
              "      <td>-1.700000</td>\n",
              "    </tr>\n",
              "    <tr>\n",
              "      <th>25%</th>\n",
              "      <td>2001.000000</td>\n",
              "      <td>1.700000</td>\n",
              "      <td>-1.600000</td>\n",
              "    </tr>\n",
              "    <tr>\n",
              "      <th>50%</th>\n",
              "      <td>2001.000000</td>\n",
              "      <td>2.400000</td>\n",
              "      <td>-1.500000</td>\n",
              "    </tr>\n",
              "    <tr>\n",
              "      <th>75%</th>\n",
              "      <td>2002.000000</td>\n",
              "      <td>2.900000</td>\n",
              "      <td>-1.350000</td>\n",
              "    </tr>\n",
              "    <tr>\n",
              "      <th>max</th>\n",
              "      <td>2002.000000</td>\n",
              "      <td>3.600000</td>\n",
              "      <td>-1.200000</td>\n",
              "    </tr>\n",
              "  </tbody>\n",
              "</table>\n",
              "</div>"
            ],
            "text/plain": [
              "columns name         year       pop      debt\n",
              "count            5.000000  5.000000  3.000000\n",
              "mean          1641.200000  2.420000 -1.466667\n",
              "std            805.655447  0.864292  0.251661\n",
              "min            200.000000  1.500000 -1.700000\n",
              "25%           2001.000000  1.700000 -1.600000\n",
              "50%           2001.000000  2.400000 -1.500000\n",
              "75%           2002.000000  2.900000 -1.350000\n",
              "max           2002.000000  3.600000 -1.200000"
            ]
          },
          "metadata": {
            "tags": []
          },
          "execution_count": 29
        }
      ]
    },
    {
      "cell_type": "code",
      "metadata": {
        "colab": {
          "base_uri": "https://localhost:8080/",
          "height": 220
        },
        "id": "rf-uRtHXIIkO",
        "outputId": "8bf630d0-ad33-48e6-ef03-3a9f54521cc3"
      },
      "source": [
        "# 누적합 \r\n",
        "frame.cumsum()"
      ],
      "execution_count": 32,
      "outputs": [
        {
          "output_type": "execute_result",
          "data": {
            "text/html": [
              "<div>\n",
              "<style scoped>\n",
              "    .dataframe tbody tr th:only-of-type {\n",
              "        vertical-align: middle;\n",
              "    }\n",
              "\n",
              "    .dataframe tbody tr th {\n",
              "        vertical-align: top;\n",
              "    }\n",
              "\n",
              "    .dataframe thead th {\n",
              "        text-align: right;\n",
              "    }\n",
              "</style>\n",
              "<table border=\"1\" class=\"dataframe\">\n",
              "  <thead>\n",
              "    <tr style=\"text-align: right;\">\n",
              "      <th>columns name</th>\n",
              "      <th>year</th>\n",
              "      <th>state</th>\n",
              "      <th>pop</th>\n",
              "      <th>debt</th>\n",
              "    </tr>\n",
              "    <tr>\n",
              "      <th>index name</th>\n",
              "      <th></th>\n",
              "      <th></th>\n",
              "      <th></th>\n",
              "      <th></th>\n",
              "    </tr>\n",
              "  </thead>\n",
              "  <tbody>\n",
              "    <tr>\n",
              "      <th>one</th>\n",
              "      <td>200</td>\n",
              "      <td>A</td>\n",
              "      <td>1.5</td>\n",
              "      <td>NaN</td>\n",
              "    </tr>\n",
              "    <tr>\n",
              "      <th>two</th>\n",
              "      <td>2201</td>\n",
              "      <td>AB</td>\n",
              "      <td>3.2</td>\n",
              "      <td>-1.2</td>\n",
              "    </tr>\n",
              "    <tr>\n",
              "      <th>three</th>\n",
              "      <td>4203</td>\n",
              "      <td>ABC</td>\n",
              "      <td>6.8</td>\n",
              "      <td>NaN</td>\n",
              "    </tr>\n",
              "    <tr>\n",
              "      <th>four</th>\n",
              "      <td>6204</td>\n",
              "      <td>ABCC</td>\n",
              "      <td>9.2</td>\n",
              "      <td>-2.7</td>\n",
              "    </tr>\n",
              "    <tr>\n",
              "      <th>five</th>\n",
              "      <td>8206</td>\n",
              "      <td>ABCCD</td>\n",
              "      <td>12.1</td>\n",
              "      <td>-4.4</td>\n",
              "    </tr>\n",
              "  </tbody>\n",
              "</table>\n",
              "</div>"
            ],
            "text/plain": [
              "columns name  year  state   pop  debt\n",
              "index name                           \n",
              "one            200      A   1.5   NaN\n",
              "two           2201     AB   3.2  -1.2\n",
              "three         4203    ABC   6.8   NaN\n",
              "four          6204   ABCC   9.2  -2.7\n",
              "five          8206  ABCCD  12.1  -4.4"
            ]
          },
          "metadata": {
            "tags": []
          },
          "execution_count": 32
        }
      ]
    }
  ]
}